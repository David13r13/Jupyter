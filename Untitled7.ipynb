{
  "cells": [
    {
      "cell_type": "markdown",
      "metadata": {
        "id": "view-in-github",
        "colab_type": "text"
      },
      "source": [
        "<a href=\"https://colab.research.google.com/github/David13r13/Notebook/blob/main/Untitled7.ipynb\" target=\"_parent\"><img src=\"https://colab.research.google.com/assets/colab-badge.svg\" alt=\"Open In Colab\"/></a>"
      ]
    },
    {
      "cell_type": "code",
      "execution_count": null,
      "metadata": {
        "colab": {
          "background_save": true,
          "base_uri": "https://localhost:8080/"
        },
        "id": "vIyiKpQ-MGip",
        "outputId": "94d2d7a5-c83e-4e84-85f9-b426bded82b8"
      },
      "outputs": [
        {
          "name": "stdout",
          "output_type": "stream",
          "text": [
            "Ign:1 https://developer.download.nvidia.com/compute/cuda/repos/ubuntu1804/x86_64  InRelease\n",
            "Get:2 https://cloud.r-project.org/bin/linux/ubuntu bionic-cran40/ InRelease [3,626 B]\n",
            "Ign:3 https://developer.download.nvidia.com/compute/machine-learning/repos/ubuntu1804/x86_64  InRelease\n",
            "Get:4 https://developer.download.nvidia.com/compute/cuda/repos/ubuntu1804/x86_64  Release [696 B]\n",
            "Hit:5 https://developer.download.nvidia.com/compute/machine-learning/repos/ubuntu1804/x86_64  Release\n",
            "Get:6 https://developer.download.nvidia.com/compute/cuda/repos/ubuntu1804/x86_64  Release.gpg [836 B]\n",
            "Get:7 http://ppa.launchpad.net/c2d4u.team/c2d4u4.0+/ubuntu bionic InRelease [15.9 kB]\n",
            "Get:8 http://security.ubuntu.com/ubuntu bionic-security InRelease [88.7 kB]\n",
            "Hit:9 http://archive.ubuntu.com/ubuntu bionic InRelease\n",
            "Hit:10 http://ppa.launchpad.net/cran/libgit2/ubuntu bionic InRelease\n",
            "Get:11 http://archive.ubuntu.com/ubuntu bionic-updates InRelease [88.7 kB]\n",
            "Hit:13 http://ppa.launchpad.net/deadsnakes/ppa/ubuntu bionic InRelease\n",
            "Get:14 https://developer.download.nvidia.com/compute/cuda/repos/ubuntu1804/x86_64  Packages [867 kB]\n",
            "Hit:15 http://ppa.launchpad.net/graphics-drivers/ppa/ubuntu bionic InRelease\n",
            "Get:16 http://archive.ubuntu.com/ubuntu bionic-backports InRelease [74.6 kB]\n",
            "Get:17 http://ppa.launchpad.net/c2d4u.team/c2d4u4.0+/ubuntu bionic/main Sources [1,822 kB]\n",
            "Get:18 http://security.ubuntu.com/ubuntu bionic-security/universe amd64 Packages [1,459 kB]\n",
            "Get:19 http://ppa.launchpad.net/c2d4u.team/c2d4u4.0+/ubuntu bionic/main amd64 Packages [934 kB]\n",
            "Get:20 http://archive.ubuntu.com/ubuntu bionic-updates/main amd64 Packages [2,935 kB]\n",
            "Get:21 http://security.ubuntu.com/ubuntu bionic-security/main amd64 Packages [2,498 kB]\n",
            "Get:22 http://security.ubuntu.com/ubuntu bionic-security/restricted amd64 Packages [725 kB]\n",
            "Get:23 http://archive.ubuntu.com/ubuntu bionic-updates/restricted amd64 Packages [758 kB]\n",
            "Get:24 http://archive.ubuntu.com/ubuntu bionic-updates/universe amd64 Packages [2,238 kB]\n",
            "Fetched 14.5 MB in 5s (2,976 kB/s)\n",
            "Reading package lists... Done\n",
            "Reading package lists... Done\n",
            "Building dependency tree       \n",
            "Reading state information... Done\n",
            "The following additional packages will be installed:\n",
            "  aspell aspell-en boinc-manager dictionaries-common emacsen-common enchant\n",
            "  gstreamer1.0-gl gstreamer1.0-plugins-base gstreamer1.0-plugins-good\n",
            "  gstreamer1.0-pulseaudio gstreamer1.0-x hunspell-en-us libaa1 libaspell15\n",
            "  libboinc7 libbrotli1 libcap2-bin libcdparanoia0 libdv4 libenchant1c2a\n",
            "  libgpm2 libgraphene-1.0-0 libgstreamer-gl1.0-0\n",
            "  libgstreamer-plugins-base1.0-0 libgstreamer-plugins-good1.0-0\n",
            "  libgstreamer1.0-0 libhunspell-1.6-0 libhyphen0 libjavascriptcoregtk-4.0-18\n",
            "  libnotify4 liborc-0.4-0 libpam-cap libsecret-1-0 libsecret-common libshout3\n",
            "  libtag1v5 libtag1v5-vanilla libtext-iconv-perl libv4l-0 libv4lconvert0\n",
            "  libvisual-0.4-0 libwebkit2gtk-4.0-37 libwoff1 libwxbase3.0-0v5\n",
            "  libwxgtk-webview3.0-gtk3-0v5 libwxgtk3.0-gtk3-0v5 notification-daemon\n",
            "Suggested packages:\n",
            "  aspell-doc spellutils boinc-client-opencl boinc-client-nvidia-cuda\n",
            "  x11-xserver-utils libgl1-mesa-glx wordlist gvfs hunspell\n",
            "  openoffice.org-hunspell | openoffice.org-core libdv-bin oss-compat\n",
            "  libenchant-voikko gpm libvisual-0.4-plugins gstreamer1.0-tools\n",
            "  libwebkit2gtk-4.0-37-gtk2\n",
            "The following NEW packages will be installed:\n",
            "  aspell aspell-en boinc boinc-client boinc-manager dictionaries-common\n",
            "  emacsen-common enchant gstreamer1.0-gl gstreamer1.0-plugins-base\n",
            "  gstreamer1.0-plugins-good gstreamer1.0-pulseaudio gstreamer1.0-x\n",
            "  hunspell-en-us libaa1 libaspell15 libboinc7 libbrotli1 libcap2-bin\n",
            "  libcdparanoia0 libdv4 libenchant1c2a libgpm2 libgraphene-1.0-0\n",
            "  libgstreamer-gl1.0-0 libgstreamer-plugins-base1.0-0\n",
            "  libgstreamer-plugins-good1.0-0 libgstreamer1.0-0 libhunspell-1.6-0\n",
            "  libhyphen0 libjavascriptcoregtk-4.0-18 libnotify4 liborc-0.4-0 libpam-cap\n",
            "  libsecret-1-0 libsecret-common libshout3 libtag1v5 libtag1v5-vanilla\n",
            "  libtext-iconv-perl libv4l-0 libv4lconvert0 libvisual-0.4-0\n",
            "  libwebkit2gtk-4.0-37 libwoff1 libwxbase3.0-0v5 libwxgtk-webview3.0-gtk3-0v5\n",
            "  libwxgtk3.0-gtk3-0v5 notification-daemon\n",
            "0 upgraded, 49 newly installed, 0 to remove and 43 not upgraded.\n",
            "Need to get 33.6 MB of archives.\n",
            "After this operation, 136 MB of additional disk space will be used.\n",
            "Get:1 http://archive.ubuntu.com/ubuntu bionic/main amd64 libcap2-bin amd64 1:2.25-1.2 [20.6 kB]\n",
            "Get:2 http://archive.ubuntu.com/ubuntu bionic/main amd64 libpam-cap amd64 1:2.25-1.2 [7,268 B]\n",
            "Get:3 http://archive.ubuntu.com/ubuntu bionic/main amd64 libtext-iconv-perl amd64 1.7-5build6 [13.0 kB]\n",
            "Get:4 http://archive.ubuntu.com/ubuntu bionic-updates/main amd64 libaspell15 amd64 0.60.7~20110707-4ubuntu0.2 [310 kB]\n",
            "Get:5 http://archive.ubuntu.com/ubuntu bionic/main amd64 emacsen-common all 2.0.8 [17.6 kB]\n",
            "Get:6 http://archive.ubuntu.com/ubuntu bionic/main amd64 dictionaries-common all 1.27.2 [186 kB]\n",
            "Get:7 http://archive.ubuntu.com/ubuntu bionic-updates/main amd64 aspell amd64 0.60.7~20110707-4ubuntu0.2 [87.7 kB]\n",
            "Get:8 http://archive.ubuntu.com/ubuntu bionic/main amd64 aspell-en all 2017.08.24-0-0.1 [298 kB]\n",
            "Get:9 http://archive.ubuntu.com/ubuntu bionic-updates/universe amd64 libboinc7 amd64 7.9.3+dfsg-5ubuntu2 [383 kB]\n",
            "Get:10 http://archive.ubuntu.com/ubuntu bionic-updates/universe amd64 boinc-client amd64 7.9.3+dfsg-5ubuntu2 [448 kB]\n",
            "Get:11 http://archive.ubuntu.com/ubuntu bionic/main amd64 libnotify4 amd64 0.7.7-3 [17.3 kB]\n",
            "Get:12 http://archive.ubuntu.com/ubuntu bionic/universe amd64 libwxbase3.0-0v5 amd64 3.0.4+dfsg-3 [954 kB]\n",
            "Get:13 http://archive.ubuntu.com/ubuntu bionic-updates/main amd64 libjavascriptcoregtk-4.0-18 amd64 2.32.4-0ubuntu0.18.04.1 [5,752 kB]\n",
            "Get:14 http://archive.ubuntu.com/ubuntu bionic/main amd64 hunspell-en-us all 1:2017.08.24 [168 kB]\n",
            "Get:15 http://archive.ubuntu.com/ubuntu bionic/main amd64 libhunspell-1.6-0 amd64 1.6.2-1 [154 kB]\n",
            "Get:16 http://archive.ubuntu.com/ubuntu bionic/main amd64 libenchant1c2a amd64 1.6.0-11.1 [64.4 kB]\n",
            "Get:17 http://archive.ubuntu.com/ubuntu bionic-updates/main amd64 libgstreamer1.0-0 amd64 1.14.5-0ubuntu1~18.04.2 [865 kB]\n",
            "Get:18 http://archive.ubuntu.com/ubuntu bionic/main amd64 liborc-0.4-0 amd64 1:0.4.28-1 [137 kB]\n",
            "Get:19 http://archive.ubuntu.com/ubuntu bionic-updates/main amd64 libgstreamer-plugins-base1.0-0 amd64 1.14.5-0ubuntu1~18.04.3 [689 kB]\n",
            "Get:20 http://archive.ubuntu.com/ubuntu bionic-updates/main amd64 libgstreamer-gl1.0-0 amd64 1.14.5-0ubuntu1~18.04.3 [147 kB]\n",
            "Get:21 http://archive.ubuntu.com/ubuntu bionic/main amd64 libhyphen0 amd64 2.8.8-5 [26.5 kB]\n",
            "Get:22 http://archive.ubuntu.com/ubuntu bionic/main amd64 libsecret-common all 0.18.6-1 [4,452 B]\n",
            "Get:23 http://archive.ubuntu.com/ubuntu bionic/main amd64 libsecret-1-0 amd64 0.18.6-1 [94.6 kB]\n",
            "Get:24 http://archive.ubuntu.com/ubuntu bionic-updates/main amd64 libbrotli1 amd64 1.0.3-1ubuntu1.3 [262 kB]\n",
            "Get:25 http://archive.ubuntu.com/ubuntu bionic-updates/main amd64 libwoff1 amd64 1.0.2-1build0.1 [43.0 kB]\n",
            "Get:26 http://archive.ubuntu.com/ubuntu bionic-updates/main amd64 libwebkit2gtk-4.0-37 amd64 2.32.4-0ubuntu0.18.04.1 [13.4 MB]\n",
            "Get:27 http://archive.ubuntu.com/ubuntu bionic/universe amd64 libwxgtk3.0-gtk3-0v5 amd64 3.0.4+dfsg-3 [4,154 kB]\n",
            "Get:28 http://archive.ubuntu.com/ubuntu bionic/universe amd64 libwxgtk-webview3.0-gtk3-0v5 amd64 3.0.4+dfsg-3 [49.9 kB]\n",
            "Get:29 http://archive.ubuntu.com/ubuntu bionic-updates/universe amd64 boinc-manager amd64 7.9.3+dfsg-5ubuntu2 [1,367 kB]\n",
            "Get:30 http://archive.ubuntu.com/ubuntu bionic-updates/universe amd64 boinc all 7.9.3+dfsg-5ubuntu2 [15.1 kB]\n",
            "Get:31 http://archive.ubuntu.com/ubuntu bionic/main amd64 enchant amd64 1.6.0-11.1 [12.2 kB]\n",
            "Get:32 http://archive.ubuntu.com/ubuntu bionic/main amd64 libgraphene-1.0-0 amd64 1.8.0-1 [37.4 kB]\n",
            "Get:33 http://archive.ubuntu.com/ubuntu bionic-updates/main amd64 gstreamer1.0-gl amd64 1.14.5-0ubuntu1~18.04.3 [84.0 kB]\n",
            "Get:34 http://archive.ubuntu.com/ubuntu bionic/main amd64 libcdparanoia0 amd64 3.10.2+debian-13 [46.7 kB]\n",
            "Get:35 http://archive.ubuntu.com/ubuntu bionic/main amd64 libvisual-0.4-0 amd64 0.4.0-11 [99.2 kB]\n",
            "Get:36 http://archive.ubuntu.com/ubuntu bionic-updates/main amd64 gstreamer1.0-plugins-base amd64 1.14.5-0ubuntu1~18.04.3 [586 kB]\n",
            "Get:37 http://archive.ubuntu.com/ubuntu bionic/main amd64 libgpm2 amd64 1.20.7-5 [15.1 kB]\n",
            "Get:38 http://archive.ubuntu.com/ubuntu bionic/main amd64 libaa1 amd64 1.4p5-44build2 [47.2 kB]\n",
            "Get:39 http://archive.ubuntu.com/ubuntu bionic/main amd64 libdv4 amd64 1.0.0-11 [57.8 kB]\n",
            "Get:40 http://archive.ubuntu.com/ubuntu bionic-updates/main amd64 libgstreamer-plugins-good1.0-0 amd64 1.14.5-0ubuntu1~18.04.2 [62.6 kB]\n",
            "Get:41 http://archive.ubuntu.com/ubuntu bionic/main amd64 libshout3 amd64 2.4.1-2build1 [43.1 kB]\n",
            "Get:42 http://archive.ubuntu.com/ubuntu bionic/main amd64 libtag1v5-vanilla amd64 1.11.1+dfsg.1-0.2build2 [265 kB]\n",
            "Get:43 http://archive.ubuntu.com/ubuntu bionic/main amd64 libtag1v5 amd64 1.11.1+dfsg.1-0.2build2 [10.9 kB]\n",
            "Get:44 http://archive.ubuntu.com/ubuntu bionic/main amd64 libv4lconvert0 amd64 1.14.2-1 [76.1 kB]\n",
            "Get:45 http://archive.ubuntu.com/ubuntu bionic/main amd64 libv4l-0 amd64 1.14.2-1 [41.7 kB]\n",
            "Get:46 http://archive.ubuntu.com/ubuntu bionic-updates/main amd64 gstreamer1.0-plugins-good amd64 1.14.5-0ubuntu1~18.04.2 [1,691 kB]\n",
            "Get:47 http://archive.ubuntu.com/ubuntu bionic-updates/main amd64 gstreamer1.0-pulseaudio amd64 1.14.5-0ubuntu1~18.04.2 [86.4 kB]\n",
            "Get:48 http://archive.ubuntu.com/ubuntu bionic-updates/main amd64 gstreamer1.0-x amd64 1.14.5-0ubuntu1~18.04.3 [74.3 kB]\n",
            "Get:49 http://archive.ubuntu.com/ubuntu bionic/main amd64 notification-daemon amd64 3.20.0-3 [36.9 kB]\n",
            "Fetched 33.6 MB in 4s (9,582 kB/s)\n",
            "Extracting templates from packages: 100%\n",
            "Preconfiguring packages ...\n",
            "Selecting previously unselected package libcap2-bin.\n",
            "(Reading database ... 155229 files and directories currently installed.)\n",
            "Preparing to unpack .../00-libcap2-bin_1%3a2.25-1.2_amd64.deb ...\n",
            "Unpacking libcap2-bin (1:2.25-1.2) ...\n",
            "Selecting previously unselected package libpam-cap:amd64.\n",
            "Preparing to unpack .../01-libpam-cap_1%3a2.25-1.2_amd64.deb ...\n",
            "Unpacking libpam-cap:amd64 (1:2.25-1.2) ...\n",
            "Selecting previously unselected package libtext-iconv-perl.\n",
            "Preparing to unpack .../02-libtext-iconv-perl_1.7-5build6_amd64.deb ...\n",
            "Unpacking libtext-iconv-perl (1.7-5build6) ...\n",
            "Selecting previously unselected package libaspell15:amd64.\n",
            "Preparing to unpack .../03-libaspell15_0.60.7~20110707-4ubuntu0.2_amd64.deb ...\n",
            "Unpacking libaspell15:amd64 (0.60.7~20110707-4ubuntu0.2) ...\n",
            "Selecting previously unselected package emacsen-common.\n",
            "Preparing to unpack .../04-emacsen-common_2.0.8_all.deb ...\n",
            "Unpacking emacsen-common (2.0.8) ...\n",
            "Selecting previously unselected package dictionaries-common.\n",
            "Preparing to unpack .../05-dictionaries-common_1.27.2_all.deb ...\n",
            "Adding 'diversion of /usr/share/dict/words to /usr/share/dict/words.pre-dictionaries-common by dictionaries-common'\n",
            "Unpacking dictionaries-common (1.27.2) ...\n",
            "Selecting previously unselected package aspell.\n",
            "Preparing to unpack .../06-aspell_0.60.7~20110707-4ubuntu0.2_amd64.deb ...\n",
            "Unpacking aspell (0.60.7~20110707-4ubuntu0.2) ...\n",
            "Selecting previously unselected package aspell-en.\n",
            "Preparing to unpack .../07-aspell-en_2017.08.24-0-0.1_all.deb ...\n",
            "Unpacking aspell-en (2017.08.24-0-0.1) ...\n",
            "Selecting previously unselected package libboinc7:amd64.\n",
            "Preparing to unpack .../08-libboinc7_7.9.3+dfsg-5ubuntu2_amd64.deb ...\n",
            "Unpacking libboinc7:amd64 (7.9.3+dfsg-5ubuntu2) ...\n",
            "Selecting previously unselected package boinc-client.\n",
            "Preparing to unpack .../09-boinc-client_7.9.3+dfsg-5ubuntu2_amd64.deb ...\n",
            "Unpacking boinc-client (7.9.3+dfsg-5ubuntu2) ...\n",
            "Selecting previously unselected package libnotify4:amd64.\n",
            "Preparing to unpack .../10-libnotify4_0.7.7-3_amd64.deb ...\n",
            "Unpacking libnotify4:amd64 (0.7.7-3) ...\n",
            "Selecting previously unselected package libwxbase3.0-0v5:amd64.\n",
            "Preparing to unpack .../11-libwxbase3.0-0v5_3.0.4+dfsg-3_amd64.deb ...\n",
            "Unpacking libwxbase3.0-0v5:amd64 (3.0.4+dfsg-3) ...\n",
            "Selecting previously unselected package libjavascriptcoregtk-4.0-18:amd64.\n",
            "Preparing to unpack .../12-libjavascriptcoregtk-4.0-18_2.32.4-0ubuntu0.18.04.1_amd64.deb ...\n",
            "Unpacking libjavascriptcoregtk-4.0-18:amd64 (2.32.4-0ubuntu0.18.04.1) ...\n",
            "Selecting previously unselected package hunspell-en-us.\n",
            "Preparing to unpack .../13-hunspell-en-us_1%3a2017.08.24_all.deb ...\n",
            "Unpacking hunspell-en-us (1:2017.08.24) ...\n",
            "Selecting previously unselected package libhunspell-1.6-0:amd64.\n",
            "Preparing to unpack .../14-libhunspell-1.6-0_1.6.2-1_amd64.deb ...\n",
            "Unpacking libhunspell-1.6-0:amd64 (1.6.2-1) ...\n",
            "Selecting previously unselected package libenchant1c2a:amd64.\n",
            "Preparing to unpack .../15-libenchant1c2a_1.6.0-11.1_amd64.deb ...\n",
            "Unpacking libenchant1c2a:amd64 (1.6.0-11.1) ...\n",
            "Selecting previously unselected package libgstreamer1.0-0:amd64.\n",
            "Preparing to unpack .../16-libgstreamer1.0-0_1.14.5-0ubuntu1~18.04.2_amd64.deb ...\n",
            "Unpacking libgstreamer1.0-0:amd64 (1.14.5-0ubuntu1~18.04.2) ...\n",
            "Selecting previously unselected package liborc-0.4-0:amd64.\n",
            "Preparing to unpack .../17-liborc-0.4-0_1%3a0.4.28-1_amd64.deb ...\n",
            "Unpacking liborc-0.4-0:amd64 (1:0.4.28-1) ...\n",
            "Selecting previously unselected package libgstreamer-plugins-base1.0-0:amd64.\n",
            "Preparing to unpack .../18-libgstreamer-plugins-base1.0-0_1.14.5-0ubuntu1~18.04.3_amd64.deb ...\n",
            "Unpacking libgstreamer-plugins-base1.0-0:amd64 (1.14.5-0ubuntu1~18.04.3) ...\n",
            "Selecting previously unselected package libgstreamer-gl1.0-0:amd64.\n",
            "Preparing to unpack .../19-libgstreamer-gl1.0-0_1.14.5-0ubuntu1~18.04.3_amd64.deb ...\n",
            "Unpacking libgstreamer-gl1.0-0:amd64 (1.14.5-0ubuntu1~18.04.3) ...\n",
            "Selecting previously unselected package libhyphen0:amd64.\n",
            "Preparing to unpack .../20-libhyphen0_2.8.8-5_amd64.deb ...\n",
            "Unpacking libhyphen0:amd64 (2.8.8-5) ...\n",
            "Selecting previously unselected package libsecret-common.\n",
            "Preparing to unpack .../21-libsecret-common_0.18.6-1_all.deb ...\n",
            "Unpacking libsecret-common (0.18.6-1) ...\n",
            "Selecting previously unselected package libsecret-1-0:amd64.\n",
            "Preparing to unpack .../22-libsecret-1-0_0.18.6-1_amd64.deb ...\n",
            "Unpacking libsecret-1-0:amd64 (0.18.6-1) ...\n",
            "Selecting previously unselected package libbrotli1:amd64.\n",
            "Preparing to unpack .../23-libbrotli1_1.0.3-1ubuntu1.3_amd64.deb ...\n",
            "Unpacking libbrotli1:amd64 (1.0.3-1ubuntu1.3) ...\n",
            "Selecting previously unselected package libwoff1:amd64.\n",
            "Preparing to unpack .../24-libwoff1_1.0.2-1build0.1_amd64.deb ...\n",
            "Unpacking libwoff1:amd64 (1.0.2-1build0.1) ...\n",
            "Selecting previously unselected package libwebkit2gtk-4.0-37:amd64.\n",
            "Preparing to unpack .../25-libwebkit2gtk-4.0-37_2.32.4-0ubuntu0.18.04.1_amd64.deb ...\n",
            "Unpacking libwebkit2gtk-4.0-37:amd64 (2.32.4-0ubuntu0.18.04.1) ...\n",
            "Selecting previously unselected package libwxgtk3.0-gtk3-0v5:amd64.\n",
            "Preparing to unpack .../26-libwxgtk3.0-gtk3-0v5_3.0.4+dfsg-3_amd64.deb ...\n",
            "Unpacking libwxgtk3.0-gtk3-0v5:amd64 (3.0.4+dfsg-3) ...\n",
            "Selecting previously unselected package libwxgtk-webview3.0-gtk3-0v5:amd64.\n",
            "Preparing to unpack .../27-libwxgtk-webview3.0-gtk3-0v5_3.0.4+dfsg-3_amd64.deb ...\n",
            "Unpacking libwxgtk-webview3.0-gtk3-0v5:amd64 (3.0.4+dfsg-3) ...\n",
            "Selecting previously unselected package boinc-manager.\n",
            "Preparing to unpack .../28-boinc-manager_7.9.3+dfsg-5ubuntu2_amd64.deb ...\n",
            "Unpacking boinc-manager (7.9.3+dfsg-5ubuntu2) ...\n",
            "Selecting previously unselected package boinc.\n",
            "Preparing to unpack .../29-boinc_7.9.3+dfsg-5ubuntu2_all.deb ...\n",
            "Unpacking boinc (7.9.3+dfsg-5ubuntu2) ...\n",
            "Selecting previously unselected package enchant.\n",
            "Preparing to unpack .../30-enchant_1.6.0-11.1_amd64.deb ...\n",
            "Unpacking enchant (1.6.0-11.1) ...\n",
            "Selecting previously unselected package libgraphene-1.0-0:amd64.\n",
            "Preparing to unpack .../31-libgraphene-1.0-0_1.8.0-1_amd64.deb ...\n",
            "Unpacking libgraphene-1.0-0:amd64 (1.8.0-1) ...\n",
            "Selecting previously unselected package gstreamer1.0-gl:amd64.\n",
            "Preparing to unpack .../32-gstreamer1.0-gl_1.14.5-0ubuntu1~18.04.3_amd64.deb ...\n",
            "Unpacking gstreamer1.0-gl:amd64 (1.14.5-0ubuntu1~18.04.3) ...\n",
            "Selecting previously unselected package libcdparanoia0:amd64.\n",
            "Preparing to unpack .../33-libcdparanoia0_3.10.2+debian-13_amd64.deb ...\n",
            "Unpacking libcdparanoia0:amd64 (3.10.2+debian-13) ...\n",
            "Selecting previously unselected package libvisual-0.4-0:amd64.\n",
            "Preparing to unpack .../34-libvisual-0.4-0_0.4.0-11_amd64.deb ...\n",
            "Unpacking libvisual-0.4-0:amd64 (0.4.0-11) ...\n",
            "Selecting previously unselected package gstreamer1.0-plugins-base:amd64.\n",
            "Preparing to unpack .../35-gstreamer1.0-plugins-base_1.14.5-0ubuntu1~18.04.3_amd64.deb ...\n",
            "Unpacking gstreamer1.0-plugins-base:amd64 (1.14.5-0ubuntu1~18.04.3) ...\n",
            "Selecting previously unselected package libgpm2:amd64.\n",
            "Preparing to unpack .../36-libgpm2_1.20.7-5_amd64.deb ...\n",
            "Unpacking libgpm2:amd64 (1.20.7-5) ...\n",
            "Selecting previously unselected package libaa1:amd64.\n",
            "Preparing to unpack .../37-libaa1_1.4p5-44build2_amd64.deb ...\n",
            "Unpacking libaa1:amd64 (1.4p5-44build2) ...\n",
            "Selecting previously unselected package libdv4:amd64.\n",
            "Preparing to unpack .../38-libdv4_1.0.0-11_amd64.deb ...\n",
            "Unpacking libdv4:amd64 (1.0.0-11) ...\n",
            "Selecting previously unselected package libgstreamer-plugins-good1.0-0:amd64.\n",
            "Preparing to unpack .../39-libgstreamer-plugins-good1.0-0_1.14.5-0ubuntu1~18.04.2_amd64.deb ...\n",
            "Unpacking libgstreamer-plugins-good1.0-0:amd64 (1.14.5-0ubuntu1~18.04.2) ...\n",
            "Selecting previously unselected package libshout3:amd64.\n",
            "Preparing to unpack .../40-libshout3_2.4.1-2build1_amd64.deb ...\n",
            "Unpacking libshout3:amd64 (2.4.1-2build1) ...\n",
            "Selecting previously unselected package libtag1v5-vanilla:amd64.\n",
            "Preparing to unpack .../41-libtag1v5-vanilla_1.11.1+dfsg.1-0.2build2_amd64.deb ...\n",
            "Unpacking libtag1v5-vanilla:amd64 (1.11.1+dfsg.1-0.2build2) ...\n",
            "Selecting previously unselected package libtag1v5:amd64.\n",
            "Preparing to unpack .../42-libtag1v5_1.11.1+dfsg.1-0.2build2_amd64.deb ...\n",
            "Unpacking libtag1v5:amd64 (1.11.1+dfsg.1-0.2build2) ...\n",
            "Selecting previously unselected package libv4lconvert0:amd64.\n",
            "Preparing to unpack .../43-libv4lconvert0_1.14.2-1_amd64.deb ...\n",
            "Unpacking libv4lconvert0:amd64 (1.14.2-1) ...\n",
            "Selecting previously unselected package libv4l-0:amd64.\n",
            "Preparing to unpack .../44-libv4l-0_1.14.2-1_amd64.deb ...\n",
            "Unpacking libv4l-0:amd64 (1.14.2-1) ...\n",
            "Selecting previously unselected package gstreamer1.0-plugins-good:amd64.\n",
            "Preparing to unpack .../45-gstreamer1.0-plugins-good_1.14.5-0ubuntu1~18.04.2_amd64.deb ...\n",
            "Unpacking gstreamer1.0-plugins-good:amd64 (1.14.5-0ubuntu1~18.04.2) ...\n",
            "Selecting previously unselected package gstreamer1.0-pulseaudio:amd64.\n",
            "Preparing to unpack .../46-gstreamer1.0-pulseaudio_1.14.5-0ubuntu1~18.04.2_amd64.deb ...\n",
            "Unpacking gstreamer1.0-pulseaudio:amd64 (1.14.5-0ubuntu1~18.04.2) ...\n",
            "Selecting previously unselected package gstreamer1.0-x:amd64.\n",
            "Preparing to unpack .../47-gstreamer1.0-x_1.14.5-0ubuntu1~18.04.3_amd64.deb ...\n",
            "Unpacking gstreamer1.0-x:amd64 (1.14.5-0ubuntu1~18.04.3) ...\n",
            "Selecting previously unselected package notification-daemon.\n",
            "Preparing to unpack .../48-notification-daemon_3.20.0-3_amd64.deb ...\n",
            "Unpacking notification-daemon (3.20.0-3) ...\n",
            "Setting up libbrotli1:amd64 (1.0.3-1ubuntu1.3) ...\n",
            "Setting up libnotify4:amd64 (0.7.7-3) ...\n",
            "Setting up libsecret-common (0.18.6-1) ...\n",
            "Setting up libpam-cap:amd64 (1:2.25-1.2) ...\n",
            "Setting up libwoff1:amd64 (1.0.2-1build0.1) ...\n",
            "Setting up libhunspell-1.6-0:amd64 (1.6.2-1) ...\n",
            "Setting up libgpm2:amd64 (1.20.7-5) ...\n",
            "Setting up libaspell15:amd64 (0.60.7~20110707-4ubuntu0.2) ...\n",
            "Setting up libcap2-bin (1:2.25-1.2) ...\n",
            "Setting up libv4lconvert0:amd64 (1.14.2-1) ...\n",
            "Setting up emacsen-common (2.0.8) ...\n",
            "Setting up libboinc7:amd64 (7.9.3+dfsg-5ubuntu2) ...\n",
            "Setting up libcdparanoia0:amd64 (3.10.2+debian-13) ...\n",
            "Setting up libwxbase3.0-0v5:amd64 (3.0.4+dfsg-3) ...\n",
            "Setting up libhyphen0:amd64 (2.8.8-5) ...\n",
            "Setting up libaa1:amd64 (1.4p5-44build2) ...\n",
            "Setting up libtext-iconv-perl (1.7-5build6) ...\n",
            "Setting up libvisual-0.4-0:amd64 (0.4.0-11) ...\n",
            "Setting up libwxgtk3.0-gtk3-0v5:amd64 (3.0.4+dfsg-3) ...\n",
            "Setting up libjavascriptcoregtk-4.0-18:amd64 (2.32.4-0ubuntu0.18.04.1) ...\n",
            "Setting up libgraphene-1.0-0:amd64 (1.8.0-1) ...\n",
            "Setting up boinc-client (7.9.3+dfsg-5ubuntu2) ...\n",
            "Created symlink /etc/systemd/system/multi-user.target.wants/boinc-client.service → /lib/systemd/system/boinc-client.service.\n",
            "invoke-rc.d: could not determine current runlevel\n",
            "invoke-rc.d: policy-rc.d denied execution of start.\n",
            "Setting up liborc-0.4-0:amd64 (1:0.4.28-1) ...\n",
            "Setting up libshout3:amd64 (2.4.1-2build1) ...\n",
            "Setting up libsecret-1-0:amd64 (0.18.6-1) ...\n",
            "Setting up libdv4:amd64 (1.0.0-11) ...\n",
            "Setting up libtag1v5-vanilla:amd64 (1.11.1+dfsg.1-0.2build2) ...\n",
            "Setting up notification-daemon (3.20.0-3) ...\n",
            "Setting up libtag1v5:amd64 (1.11.1+dfsg.1-0.2build2) ...\n",
            "Setting up libgstreamer1.0-0:amd64 (1.14.5-0ubuntu1~18.04.2) ...\n",
            "Setcap worked! gst-ptp-helper is not suid!\n",
            "Setting up libv4l-0:amd64 (1.14.2-1) ...\n",
            "Setting up dictionaries-common (1.27.2) ...\n",
            "Setting up aspell (0.60.7~20110707-4ubuntu0.2) ...\n",
            "Setting up hunspell-en-us (1:2017.08.24) ...\n",
            "Setting up libenchant1c2a:amd64 (1.6.0-11.1) ...\n",
            "Setting up libgstreamer-plugins-base1.0-0:amd64 (1.14.5-0ubuntu1~18.04.3) ...\n",
            "Setting up gstreamer1.0-plugins-base:amd64 (1.14.5-0ubuntu1~18.04.3) ...\n",
            "Setting up gstreamer1.0-pulseaudio:amd64 (1.14.5-0ubuntu1~18.04.2) ...\n",
            "Setting up libgstreamer-gl1.0-0:amd64 (1.14.5-0ubuntu1~18.04.3) ...\n",
            "Setting up gstreamer1.0-gl:amd64 (1.14.5-0ubuntu1~18.04.3) ...\n",
            "Setting up aspell-en (2017.08.24-0-0.1) ...\n",
            "Setting up enchant (1.6.0-11.1) ...\n",
            "Setting up gstreamer1.0-x:amd64 (1.14.5-0ubuntu1~18.04.3) ...\n",
            "Setting up libgstreamer-plugins-good1.0-0:amd64 (1.14.5-0ubuntu1~18.04.2) ...\n",
            "Setting up libwebkit2gtk-4.0-37:amd64 (2.32.4-0ubuntu0.18.04.1) ...\n",
            "Setting up libwxgtk-webview3.0-gtk3-0v5:amd64 (3.0.4+dfsg-3) ...\n",
            "Setting up gstreamer1.0-plugins-good:amd64 (1.14.5-0ubuntu1~18.04.2) ...\n",
            "Setting up boinc-manager (7.9.3+dfsg-5ubuntu2) ...\n",
            "Setting up boinc (7.9.3+dfsg-5ubuntu2) ...\n",
            "Processing triggers for systemd (237-3ubuntu10.53) ...\n",
            "Processing triggers for man-db (2.8.3-2ubuntu0.1) ...\n",
            "Processing triggers for hicolor-icon-theme (0.17-2) ...\n",
            "Processing triggers for mime-support (3.60ubuntu1) ...\n",
            "Processing triggers for libc-bin (2.27-3ubuntu1.3) ...\n",
            "/sbin/ldconfig.real: /usr/local/lib/python3.7/dist-packages/ideep4py/lib/libmkldnn.so.0 is not a symbolic link\n",
            "\n",
            "Processing triggers for dictionaries-common (1.27.2) ...\n",
            "aspell-autobuildhash: processing: en [en-common].\n",
            "aspell-autobuildhash: processing: en [en-variant_0].\n",
            "aspell-autobuildhash: processing: en [en-variant_1].\n",
            "aspell-autobuildhash: processing: en [en-variant_2].\n",
            "aspell-autobuildhash: processing: en [en-w_accents-only].\n",
            "aspell-autobuildhash: processing: en [en-wo_accents-only].\n",
            "aspell-autobuildhash: processing: en [en_AU-variant_0].\n",
            "aspell-autobuildhash: processing: en [en_AU-variant_1].\n",
            "aspell-autobuildhash: processing: en [en_AU-w_accents-only].\n",
            "aspell-autobuildhash: processing: en [en_AU-wo_accents-only].\n",
            "aspell-autobuildhash: processing: en [en_CA-variant_0].\n",
            "aspell-autobuildhash: processing: en [en_CA-variant_1].\n",
            "aspell-autobuildhash: processing: en [en_CA-w_accents-only].\n",
            "aspell-autobuildhash: processing: en [en_CA-wo_accents-only].\n",
            "aspell-autobuildhash: processing: en [en_GB-ise-w_accents-only].\n",
            "aspell-autobuildhash: processing: en [en_GB-ise-wo_accents-only].\n",
            "aspell-autobuildhash: processing: en [en_GB-ize-w_accents-only].\n",
            "aspell-autobuildhash: processing: en [en_GB-ize-wo_accents-only].\n",
            "aspell-autobuildhash: processing: en [en_GB-variant_0].\n",
            "aspell-autobuildhash: processing: en [en_GB-variant_1].\n",
            "aspell-autobuildhash: processing: en [en_US-w_accents-only].\n",
            "aspell-autobuildhash: processing: en [en_US-wo_accents-only].\n",
            "13-Jan-2022 18:53:58 [---] cc_config.xml not found - using defaults\n",
            "13-Jan-2022 18:53:58 [---] Starting BOINC client version 7.9.3 for x86_64-pc-linux-gnu\n",
            "13-Jan-2022 18:53:58 [---] log flags: file_xfer, sched_ops, task\n",
            "13-Jan-2022 18:53:58 [---] Libraries: libcurl/7.58.0 OpenSSL/1.1.1 zlib/1.2.11 libidn2/2.0.4 libpsl/0.19.1 (+libidn2/2.0.4) nghttp2/1.30.0 librtmp/2.3\n",
            "13-Jan-2022 18:53:58 [---] Data directory: /content\n",
            "13-Jan-2022 18:53:58 [---] No usable GPUs found\n",
            "13-Jan-2022 18:53:58 [---] Creating new client state file\n",
            "13-Jan-2022 18:53:58 [---] [libc detection] gathered: 2.27, Ubuntu GLIBC 2.27-3ubuntu1.3\n",
            "13-Jan-2022 18:53:58 [---] Host name: 0e175856cbda\n",
            "13-Jan-2022 18:53:58 [---] Processor: 2 GenuineIntel Intel(R) Xeon(R) CPU @ 2.20GHz [Family 6 Model 79 Stepping 0]\n",
            "13-Jan-2022 18:53:58 [---] Processor features: fpu vme de pse tsc msr pae mce cx8 apic sep mtrr pge mca cmov pat pse36 clflush mmx fxsr sse sse2 ss ht syscall nx pdpe1gb rdtscp lm constant_tsc rep_good nopl xtopology nonstop_tsc cpuid tsc_known_freq pni pclmulqdq ssse3 fma cx16 pcid sse4_1 sse4_2 x2apic movbe popcnt aes xsave avx f16c rdrand hypervisor lahf_lm abm 3dnowprefetch invpcid_single ssbd ibrs ibpb stibp fsgsbase tsc_adjust bmi1 hle avx2 smep bmi2 erms invpcid rtm rdseed adx smap xsaveopt arat md_clear arch_capabilities\n",
            "13-Jan-2022 18:53:58 [---] OS: Linux Ubuntu: Ubuntu 18.04.5 LTS [5.4.144+|libc 2.27 (Ubuntu GLIBC 2.27-3ubuntu1.3)]\n",
            "13-Jan-2022 18:53:58 [---] Memory: 12.69 GB physical, 0 bytes virtual\n",
            "13-Jan-2022 18:53:58 [---] Disk: 107.72 GB total, 65.80 GB free\n",
            "13-Jan-2022 18:53:58 [---] Local time is UTC +0 hours\n",
            "dir_open: Could not open directory 'projects/www.primegrid.com' from '/content'.\n",
            "13-Jan-2022 18:53:58 [---] Last benchmark was 19005 days 18:53:58 ago\n",
            "13-Jan-2022 18:53:58 [http://www.primegrid.com/] URL http://www.primegrid.com/; Computer ID not assigned yet; resource share 100\n",
            "13-Jan-2022 18:53:58 [---] No general preferences found - using defaults\n",
            "13-Jan-2022 18:53:58 [---] Preferences:\n",
            "13-Jan-2022 18:53:58 [---]    max memory usage when active: 6495.57 MB\n",
            "13-Jan-2022 18:53:58 [---]    max memory usage when idle: 11692.02 MB\n",
            "13-Jan-2022 18:53:58 [---]    max disk usage: 65.70 GB\n",
            "13-Jan-2022 18:53:58 [---]    don't use GPU while active\n",
            "13-Jan-2022 18:53:58 [---]    suspend work if non-BOINC CPU load exceeds 25%\n",
            "13-Jan-2022 18:53:58 [---]    (to change preferences, visit a project web site or select Preferences in the Manager)\n",
            "13-Jan-2022 18:53:58 [---] Setting up project and slot directories\n",
            "13-Jan-2022 18:53:58 [---] Checking active tasks\n",
            "13-Jan-2022 18:53:58 [---] Setting up GUI RPC socket\n",
            "13-Jan-2022 18:53:58 [---] Checking presence of 0 project files\n",
            "13-Jan-2022 18:53:58 Initialization completed\n",
            "13-Jan-2022 18:53:58 [---] Running CPU benchmarks\n",
            "13-Jan-2022 18:53:58 [---] Suspending computation - CPU benchmarks in progress\n",
            "13-Jan-2022 18:54:29 [---] Benchmark results:\n",
            "13-Jan-2022 18:54:29 [---]    Number of CPUs: 2\n",
            "13-Jan-2022 18:54:29 [---]    3418 floating point MIPS (Whetstone) per CPU\n",
            "13-Jan-2022 18:54:29 [---]    82005 integer MIPS (Dhrystone) per CPU\n",
            "13-Jan-2022 18:54:36 [http://www.primegrid.com/] Master file download succeeded\n",
            "13-Jan-2022 18:54:42 [http://www.primegrid.com/] Sending scheduler request: Project initialization.\n",
            "13-Jan-2022 18:54:42 [http://www.primegrid.com/] Requesting new tasks for CPU\n",
            "13-Jan-2022 18:54:45 [PrimeGrid] Scheduler request completed: got 1 new tasks\n",
            "13-Jan-2022 18:54:45 [PrimeGrid] General prefs: from PrimeGrid (last modified 12-Jan-2022 04:19:14)\n",
            "13-Jan-2022 18:54:45 [PrimeGrid] Host location: none\n",
            "13-Jan-2022 18:54:45 [PrimeGrid] General prefs: using your defaults\n",
            "13-Jan-2022 18:54:45 [---] Preferences:\n",
            "13-Jan-2022 18:54:45 [---]    max memory usage when active: 6495.57 MB\n",
            "13-Jan-2022 18:54:45 [---]    max memory usage when idle: 11692.02 MB\n",
            "13-Jan-2022 18:54:45 [---]    max disk usage: 53.86 GB\n",
            "13-Jan-2022 18:54:45 [---]    don't use GPU while active\n",
            "13-Jan-2022 18:54:45 [---]    suspend work if non-BOINC CPU load exceeds 25%\n",
            "13-Jan-2022 18:54:45 [---]    (to change preferences, visit a project web site or select Preferences in the Manager)\n",
            "13-Jan-2022 18:54:47 [PrimeGrid] Started download of llr2_linux64_200531\n",
            "13-Jan-2022 18:54:47 [PrimeGrid] Started download of llr.ini.6.07_gerb\n",
            "13-Jan-2022 18:54:49 [PrimeGrid] Finished download of llr.ini.6.07_gerb\n",
            "13-Jan-2022 18:54:49 [PrimeGrid] Started download of llr_wrapper_8.04_x86_64-pc-linux-gnu\n",
            "13-Jan-2022 18:54:50 [PrimeGrid] Finished download of llr2_linux64_200531\n",
            "13-Jan-2022 18:54:50 [PrimeGrid] Finished download of llr_wrapper_8.04_x86_64-pc-linux-gnu\n",
            "13-Jan-2022 18:54:50 [PrimeGrid] Started download of llrPPSE_388907860\n",
            "13-Jan-2022 18:54:50 [PrimeGrid] Started download of stat_primegrid.png\n",
            "13-Jan-2022 18:54:50 [PrimeGrid] Started download of primegrid_slideshow_00.png\n",
            "13-Jan-2022 18:54:51 [PrimeGrid] Finished download of llrPPSE_388907860\n",
            "13-Jan-2022 18:54:51 [PrimeGrid] Finished download of stat_primegrid.png\n",
            "13-Jan-2022 18:54:51 [PrimeGrid] Finished download of primegrid_slideshow_00.png\n",
            "13-Jan-2022 18:54:51 [PrimeGrid] Starting task llrPPSE_388907860_0\n",
            "dir_open: Could not open directory '/dev/input' from '/content'.\n",
            "dir_open: Could not open directory '/dev/input' from '/content'.\n",
            "dir_open: Could not open directory '/dev/input/mice' from '/content'.\n",
            "dir_open: Could not open directory '/dev/input' from '/content'.\n",
            "dir_open: Could not open directory '/dev/input' from '/content'.\n",
            "dir_open: Could not open directory '/dev/input/mice' from '/content'.\n",
            "dir_open: Could not open directory '/dev/input' from '/content'.\n",
            "dir_open: Could not open directory '/dev/input' from '/content'.\n",
            "dir_open: Could not open directory '/dev/input/mice' from '/content'.\n",
            "dir_open: Could not open directory '/dev/input' from '/content'.\n",
            "dir_open: Could not open directory '/dev/input' from '/content'.\n",
            "dir_open: Could not open directory '/dev/input/mice' from '/content'.\n",
            "dir_open: Could not open directory '/dev/input' from '/content'.\n",
            "dir_open: Could not open directory '/dev/input' from '/content'.\n",
            "dir_open: Could not open directory '/dev/input/mice' from '/content'.\n",
            "13-Jan-2022 19:13:50 [PrimeGrid] Computation for task llrPPSE_388907860_0 finished\n",
            "13-Jan-2022 19:13:51 [PrimeGrid] Sending scheduler request: To fetch work.\n",
            "13-Jan-2022 19:13:51 [PrimeGrid] Requesting new tasks for CPU\n",
            "13-Jan-2022 19:13:52 [PrimeGrid] Started upload of llrPPSE_388907860_0_r1348806133_0\n",
            "13-Jan-2022 19:13:54 [PrimeGrid] Finished upload of llrPPSE_388907860_0_r1348806133_0\n",
            "13-Jan-2022 19:13:54 [PrimeGrid] Scheduler request completed: got 1 new tasks\n",
            "13-Jan-2022 19:13:54 [PrimeGrid] Generated new computer cross-project ID: 974efe0db8bfaaaeeae3fba1e6dcb20b\n",
            "13-Jan-2022 19:13:56 [PrimeGrid] Started download of llrPPSE_388908286\n",
            "13-Jan-2022 19:13:58 [PrimeGrid] Finished download of llrPPSE_388908286\n",
            "13-Jan-2022 19:13:58 [PrimeGrid] Starting task llrPPSE_388908286_0\n",
            "13-Jan-2022 19:14:04 [PrimeGrid] Sending scheduler request: To report completed tasks.\n",
            "13-Jan-2022 19:14:04 [PrimeGrid] Reporting 1 completed tasks\n",
            "13-Jan-2022 19:14:04 [PrimeGrid] Not requesting tasks: don't need ()\n",
            "13-Jan-2022 19:14:06 [PrimeGrid] Scheduler request completed\n",
            "dir_open: Could not open directory '/dev/input' from '/content'.\n",
            "dir_open: Could not open directory '/dev/input' from '/content'.\n",
            "dir_open: Could not open directory '/dev/input/mice' from '/content'.\n",
            "dir_open: Could not open directory '/dev/input' from '/content'.\n",
            "dir_open: Could not open directory '/dev/input' from '/content'.\n",
            "dir_open: Could not open directory '/dev/input/mice' from '/content'.\n",
            "dir_open: Could not open directory '/dev/input' from '/content'.\n",
            "dir_open: Could not open directory '/dev/input' from '/content'.\n",
            "dir_open: Could not open directory '/dev/input/mice' from '/content'.\n",
            "dir_open: Could not open directory '/dev/input' from '/content'.\n",
            "dir_open: Could not open directory '/dev/input' from '/content'.\n",
            "dir_open: Could not open directory '/dev/input/mice' from '/content'.\n",
            "dir_open: Could not open directory '/dev/input' from '/content'.\n",
            "dir_open: Could not open directory '/dev/input' from '/content'.\n",
            "dir_open: Could not open directory '/dev/input/mice' from '/content'.\n",
            "dir_open: Could not open directory '/dev/input' from '/content'.\n",
            "dir_open: Could not open directory '/dev/input' from '/content'.\n",
            "dir_open: Could not open directory '/dev/input/mice' from '/content'.\n",
            "13-Jan-2022 19:32:53 [PrimeGrid] Computation for task llrPPSE_388908286_0 finished\n",
            "13-Jan-2022 19:32:55 [PrimeGrid] Started upload of llrPPSE_388908286_0_r525234734_0\n",
            "13-Jan-2022 19:32:57 [PrimeGrid] Sending scheduler request: To fetch work.\n",
            "13-Jan-2022 19:32:57 [PrimeGrid] Requesting new tasks for CPU\n",
            "13-Jan-2022 19:32:58 [PrimeGrid] Finished upload of llrPPSE_388908286_0_r525234734_0\n",
            "13-Jan-2022 19:32:58 [PrimeGrid] Scheduler request completed: got 1 new tasks\n",
            "13-Jan-2022 19:33:01 [PrimeGrid] Started download of llrPPSE_388908712\n",
            "13-Jan-2022 19:33:03 [PrimeGrid] Finished download of llrPPSE_388908712\n",
            "13-Jan-2022 19:33:03 [PrimeGrid] Starting task llrPPSE_388908712_1\n",
            "13-Jan-2022 19:33:09 [PrimeGrid] Sending scheduler request: To report completed tasks.\n",
            "13-Jan-2022 19:33:09 [PrimeGrid] Reporting 1 completed tasks\n",
            "13-Jan-2022 19:33:09 [PrimeGrid] Not requesting tasks: don't need ()\n",
            "13-Jan-2022 19:33:11 [PrimeGrid] Scheduler request completed\n",
            "dir_open: Could not open directory '/dev/input' from '/content'.\n",
            "dir_open: Could not open directory '/dev/input' from '/content'.\n",
            "dir_open: Could not open directory '/dev/input/mice' from '/content'.\n",
            "dir_open: Could not open directory '/dev/input' from '/content'.\n",
            "dir_open: Could not open directory '/dev/input' from '/content'.\n",
            "dir_open: Could not open directory '/dev/input/mice' from '/content'.\n",
            "dir_open: Could not open directory '/dev/input' from '/content'.\n",
            "dir_open: Could not open directory '/dev/input' from '/content'.\n",
            "dir_open: Could not open directory '/dev/input/mice' from '/content'.\n",
            "dir_open: Could not open directory '/dev/input' from '/content'.\n",
            "dir_open: Could not open directory '/dev/input' from '/content'.\n",
            "dir_open: Could not open directory '/dev/input/mice' from '/content'.\n",
            "dir_open: Could not open directory '/dev/input' from '/content'.\n",
            "dir_open: Could not open directory '/dev/input' from '/content'.\n",
            "dir_open: Could not open directory '/dev/input/mice' from '/content'.\n",
            "dir_open: Could not open directory '/dev/input' from '/content'.\n",
            "dir_open: Could not open directory '/dev/input' from '/content'.\n",
            "dir_open: Could not open directory '/dev/input/mice' from '/content'.\n",
            "13-Jan-2022 19:52:07 [PrimeGrid] Computation for task llrPPSE_388908712_1 finished\n",
            "13-Jan-2022 19:52:07 [PrimeGrid] Sending scheduler request: To fetch work.\n",
            "13-Jan-2022 19:52:07 [PrimeGrid] Requesting new tasks for CPU\n",
            "13-Jan-2022 19:52:09 [PrimeGrid] Started upload of llrPPSE_388908712_1_r283322218_0\n",
            "13-Jan-2022 19:52:10 [PrimeGrid] Finished upload of llrPPSE_388908712_1_r283322218_0\n",
            "13-Jan-2022 19:52:10 [PrimeGrid] Scheduler request completed: got 1 new tasks\n",
            "13-Jan-2022 19:52:12 [PrimeGrid] Started download of llrPPSE_388909088\n",
            "13-Jan-2022 19:52:14 [PrimeGrid] Finished download of llrPPSE_388909088\n",
            "13-Jan-2022 19:52:14 [PrimeGrid] Starting task llrPPSE_388909088_1\n",
            "13-Jan-2022 19:52:20 [PrimeGrid] Sending scheduler request: To report completed tasks.\n",
            "13-Jan-2022 19:52:20 [PrimeGrid] Reporting 1 completed tasks\n",
            "13-Jan-2022 19:52:20 [PrimeGrid] Not requesting tasks: don't need ()\n",
            "13-Jan-2022 19:52:22 [PrimeGrid] Scheduler request completed\n",
            "dir_open: Could not open directory '/dev/input' from '/content'.\n",
            "dir_open: Could not open directory '/dev/input' from '/content'.\n",
            "dir_open: Could not open directory '/dev/input/mice' from '/content'.\n",
            "dir_open: Could not open directory '/dev/input' from '/content'.\n",
            "dir_open: Could not open directory '/dev/input' from '/content'.\n",
            "dir_open: Could not open directory '/dev/input/mice' from '/content'.\n",
            "dir_open: Could not open directory '/dev/input' from '/content'.\n",
            "dir_open: Could not open directory '/dev/input' from '/content'.\n",
            "dir_open: Could not open directory '/dev/input/mice' from '/content'.\n",
            "dir_open: Could not open directory '/dev/input' from '/content'.\n",
            "dir_open: Could not open directory '/dev/input' from '/content'.\n",
            "dir_open: Could not open directory '/dev/input/mice' from '/content'.\n",
            "dir_open: Could not open directory '/dev/input' from '/content'.\n",
            "dir_open: Could not open directory '/dev/input' from '/content'.\n",
            "dir_open: Could not open directory '/dev/input/mice' from '/content'.\n",
            "dir_open: Could not open directory '/dev/input' from '/content'.\n",
            "dir_open: Could not open directory '/dev/input' from '/content'.\n",
            "dir_open: Could not open directory '/dev/input/mice' from '/content'.\n",
            "13-Jan-2022 20:11:23 [PrimeGrid] Computation for task llrPPSE_388909088_1 finished\n",
            "13-Jan-2022 20:11:23 [PrimeGrid] Sending scheduler request: To fetch work.\n",
            "13-Jan-2022 20:11:23 [PrimeGrid] Requesting new tasks for CPU\n",
            "13-Jan-2022 20:11:25 [PrimeGrid] Started upload of llrPPSE_388909088_1_r730734807_0\n",
            "13-Jan-2022 20:11:26 [PrimeGrid] Finished upload of llrPPSE_388909088_1_r730734807_0\n",
            "13-Jan-2022 20:11:26 [PrimeGrid] Scheduler request completed: got 1 new tasks\n",
            "13-Jan-2022 20:11:28 [PrimeGrid] Started download of llrPPSE_388909512\n",
            "13-Jan-2022 20:11:30 [PrimeGrid] Finished download of llrPPSE_388909512\n",
            "13-Jan-2022 20:11:31 [PrimeGrid] Starting task llrPPSE_388909512_1\n",
            "13-Jan-2022 20:11:37 [PrimeGrid] Sending scheduler request: To report completed tasks.\n",
            "13-Jan-2022 20:11:37 [PrimeGrid] Reporting 1 completed tasks\n",
            "13-Jan-2022 20:11:37 [PrimeGrid] Not requesting tasks: don't need ()\n",
            "13-Jan-2022 20:11:39 [PrimeGrid] Scheduler request completed\n",
            "dir_open: Could not open directory '/dev/input' from '/content'.\n",
            "dir_open: Could not open directory '/dev/input' from '/content'.\n",
            "dir_open: Could not open directory '/dev/input/mice' from '/content'.\n",
            "dir_open: Could not open directory '/dev/input' from '/content'.\n",
            "dir_open: Could not open directory '/dev/input' from '/content'.\n",
            "dir_open: Could not open directory '/dev/input/mice' from '/content'.\n",
            "dir_open: Could not open directory '/dev/input' from '/content'.\n",
            "dir_open: Could not open directory '/dev/input' from '/content'.\n",
            "dir_open: Could not open directory '/dev/input/mice' from '/content'.\n"
          ]
        }
      ],
      "source": [
        "import os.path\n",
        "!apt-get update\n",
        "!apt-get install boinc boinc-client\n",
        "!cp /usr/bin/boinc /content\n",
        "!cp /usr/bin/boinccmd /content\n",
        "if not os.path.exists('/content/slots'):\n",
        "  !mkdir slots\n",
        "if not os.path.exists('/content/slots/0'):\n",
        "  !boinc --attach_project \"http://www.primegrid.com/\" \"d68bddbb12bf54ba885db499da587e12\"\n",
        "else:\n",
        "  !boinc"
      ]
    },
    {
      "cell_type": "code",
      "execution_count": null,
      "metadata": {
        "id": "vgxrt_cfzPQi"
      },
      "outputs": [],
      "source": [
        ""
      ]
    },
    {
      "cell_type": "code",
      "execution_count": null,
      "metadata": {
        "id": "PeXsaBW9zY9t"
      },
      "outputs": [],
      "source": [
        ""
      ]
    },
    {
      "cell_type": "code",
      "execution_count": null,
      "metadata": {
        "id": "CipWOgeTznoE"
      },
      "outputs": [],
      "source": [
        ""
      ]
    },
    {
      "cell_type": "code",
      "execution_count": null,
      "metadata": {
        "id": "4dJKCiCXz2aY"
      },
      "outputs": [],
      "source": [
        ""
      ]
    },
    {
      "cell_type": "code",
      "execution_count": null,
      "metadata": {
        "id": "oKvEofDu0E-J"
      },
      "outputs": [],
      "source": [
        ""
      ]
    },
    {
      "cell_type": "code",
      "execution_count": null,
      "metadata": {
        "id": "3FhsLCY70Tj1"
      },
      "outputs": [],
      "source": [
        ""
      ]
    },
    {
      "cell_type": "code",
      "execution_count": null,
      "metadata": {
        "id": "RnWTJbU90iLw"
      },
      "outputs": [],
      "source": [
        ""
      ]
    },
    {
      "cell_type": "code",
      "execution_count": null,
      "metadata": {
        "id": "hj4OZyEx0w4W"
      },
      "outputs": [],
      "source": [
        ""
      ]
    },
    {
      "cell_type": "code",
      "execution_count": null,
      "metadata": {
        "id": "XiYD_9Mn0_yu"
      },
      "outputs": [],
      "source": [
        ""
      ]
    },
    {
      "cell_type": "code",
      "execution_count": null,
      "metadata": {
        "id": "OXhMMFR81ORI"
      },
      "outputs": [],
      "source": [
        ""
      ]
    },
    {
      "cell_type": "code",
      "execution_count": null,
      "metadata": {
        "id": "GGiy3lNo1c4f"
      },
      "outputs": [],
      "source": [
        ""
      ]
    },
    {
      "cell_type": "code",
      "execution_count": null,
      "metadata": {
        "id": "JFp7erpi1rmp"
      },
      "outputs": [],
      "source": [
        ""
      ]
    },
    {
      "cell_type": "code",
      "execution_count": null,
      "metadata": {
        "id": "yRCzAamg16Wl"
      },
      "outputs": [],
      "source": [
        ""
      ]
    },
    {
      "cell_type": "code",
      "execution_count": null,
      "metadata": {
        "id": "KBYZYo-U2J2E"
      },
      "outputs": [],
      "source": [
        ""
      ]
    },
    {
      "cell_type": "code",
      "execution_count": null,
      "metadata": {
        "id": "Ib1cO3KT2XZe"
      },
      "outputs": [],
      "source": [
        ""
      ]
    },
    {
      "cell_type": "code",
      "execution_count": null,
      "metadata": {
        "id": "0asmrOon2mJ6"
      },
      "outputs": [],
      "source": [
        ""
      ]
    },
    {
      "cell_type": "code",
      "execution_count": null,
      "metadata": {
        "id": "ovAC57Hd2043"
      },
      "outputs": [],
      "source": [
        ""
      ]
    },
    {
      "cell_type": "code",
      "execution_count": null,
      "metadata": {
        "id": "_fWJOZqW3Dfj"
      },
      "outputs": [],
      "source": [
        ""
      ]
    },
    {
      "cell_type": "code",
      "execution_count": null,
      "metadata": {
        "id": "2dpW8q_U3R-f"
      },
      "outputs": [],
      "source": [
        ""
      ]
    },
    {
      "cell_type": "code",
      "execution_count": null,
      "metadata": {
        "id": "9Yd3qgrl3lfC"
      },
      "outputs": [],
      "source": [
        ""
      ]
    },
    {
      "cell_type": "code",
      "execution_count": null,
      "metadata": {
        "id": "Lg41MrP13vZF"
      },
      "outputs": [],
      "source": [
        ""
      ]
    },
    {
      "cell_type": "code",
      "execution_count": null,
      "metadata": {
        "id": "X_ji3fpcxqoC"
      },
      "outputs": [],
      "source": [
        ""
      ]
    },
    {
      "cell_type": "code",
      "execution_count": null,
      "metadata": {
        "id": "x1q-9gPzx5Rp"
      },
      "outputs": [],
      "source": [
        ""
      ]
    },
    {
      "cell_type": "code",
      "execution_count": null,
      "metadata": {
        "id": "TVD-b7PoMJLN"
      },
      "outputs": [],
      "source": [
        ""
      ]
    }
  ],
  "metadata": {
    "colab": {
      "name": "Untitled7.ipynb",
      "provenance": [],
      "authorship_tag": "ABX9TyO7/1Jm0LCFso0YNbaAvD8y",
      "include_colab_link": true
    },
    "kernelspec": {
      "display_name": "Python 3",
      "name": "python3"
    },
    "language_info": {
      "name": "python"
    }
  },
  "nbformat": 4,
  "nbformat_minor": 0
}