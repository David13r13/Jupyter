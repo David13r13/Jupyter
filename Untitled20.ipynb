{
  "nbformat": 4,
  "nbformat_minor": 0,
  "metadata": {
    "colab": {
      "name": "Untitled20.ipynb",
      "provenance": [],
      "authorship_tag": "ABX9TyNL5/xRhSyL897/U0RQpBLU",
      "include_colab_link": true
    },
    "kernelspec": {
      "name": "python3",
      "display_name": "Python 3"
    },
    "language_info": {
      "name": "python"
    }
  },
  "cells": [
    {
      "cell_type": "markdown",
      "metadata": {
        "id": "view-in-github",
        "colab_type": "text"
      },
      "source": [
        "<a href=\"https://colab.research.google.com/github/David13r13/Notebook/blob/main/Untitled20.ipynb\" target=\"_parent\"><img src=\"https://colab.research.google.com/assets/colab-badge.svg\" alt=\"Open In Colab\"/></a>"
      ]
    },
    {
      "cell_type": "code",
      "execution_count": null,
      "metadata": {
        "id": "dKstpplMeT_t"
      },
      "outputs": [],
      "source": [
        "import os.path\n",
        "!apt-get update\n",
        "!apt-get install boinc boinc-client\n",
        "!cp /usr/bin/boinc /content\n",
        "!cp /usr/bin/boinccmd /content\n",
        "if not os.path.exists('/content/slots'):\n",
        "  !mkdir slots\n",
        "if not os.path.exists('/content/slots/0'):\n",
        "  !boinc --attach_project \"http://www.primegrid.com/\" \"d68bddbb12bf54ba885db499da587e12\"\n",
        "else:\n",
        "  !boinc\n"
      ]
    }
  ]
}